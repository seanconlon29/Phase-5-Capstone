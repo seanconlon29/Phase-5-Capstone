{
 "cells": [
  {
   "cell_type": "markdown",
   "metadata": {},
   "source": [
    "# Location-Based Model"
   ]
  },
  {
   "cell_type": "markdown",
   "metadata": {},
   "source": [
    "This model was performed using some sources as provided below.\n",
    "\n",
    "The first preparation of a model of this caliber, was to import the necessary packages, read in the csv file to the dataframe. This dataframe is then cut down to only include specific columns needed to perform the recommendation system we need. These include only columns with latitude, longitude, the brewery name, the beer name as well as the reviews of such beers. \n",
    "\n",
    "We then performed a KNNBasic model using the surprise package and a train-test split with the default test_size of 75% training data and 25% testing data. KNNBasic was run as it performed better on the metrics provided of mean average error and mean squared error. \n",
    "\n",
    "The recommendation system was performed using the sources provided here:\n",
    "https://stackoverflow.com/questions/41336756/find-the-closest-latitude-and-longitude\n",
    "https://towardsdatascience.com/location-based-recommendations-bb70af7b1538\n",
    "\n",
    "##### Running this model, it uses the haversine formula to correctly run the recommend_beers function. \n",
    "\n",
    "The recommend_beers function converts the latitude and longitude inputs to radians and uses a loop to iterate through each brewery within the dataframe. It calculates the distance between the input location and the brewery using the formula and stored within a list called distances. \n",
    "\n",
    "The function sorts the dataframe by distance and drops any duplicated brewery_name values to provide the 5 closest breweries to the input latitiude and longitude.\n",
    "\n",
    "For each of the 5 breweries, it loops through their reviews to find their top 5 rated beers to provide the user with a destination as well as what they each provide. "
   ]
  },
  {
   "cell_type": "code",
   "execution_count": 1,
   "metadata": {},
   "outputs": [],
   "source": [
    "#import necessary packages\n",
    "import pandas as pd"
   ]
  },
  {
   "cell_type": "code",
   "execution_count": 2,
   "metadata": {},
   "outputs": [],
   "source": [
    "# read in all_beer_df.csv \n",
    "all_beer_df = pd.read_csv('data/all_beer_df.csv', low_memory=False)"
   ]
  },
  {
   "cell_type": "code",
   "execution_count": 3,
   "metadata": {},
   "outputs": [
    {
     "data": {
      "text/html": [
       "<div>\n",
       "<style scoped>\n",
       "    .dataframe tbody tr th:only-of-type {\n",
       "        vertical-align: middle;\n",
       "    }\n",
       "\n",
       "    .dataframe tbody tr th {\n",
       "        vertical-align: top;\n",
       "    }\n",
       "\n",
       "    .dataframe thead th {\n",
       "        text-align: right;\n",
       "    }\n",
       "</style>\n",
       "<table border=\"1\" class=\"dataframe\">\n",
       "  <thead>\n",
       "    <tr style=\"text-align: right;\">\n",
       "      <th></th>\n",
       "      <th>lat</th>\n",
       "      <th>long</th>\n",
       "      <th>brewery_name</th>\n",
       "      <th>beer_name</th>\n",
       "      <th>review_overall</th>\n",
       "    </tr>\n",
       "  </thead>\n",
       "  <tbody>\n",
       "    <tr>\n",
       "      <th>0</th>\n",
       "      <td>37.711807</td>\n",
       "      <td>-122.177658</td>\n",
       "      <td>21st Amendment Brewery</td>\n",
       "      <td>Hop Caen</td>\n",
       "      <td>4.5</td>\n",
       "    </tr>\n",
       "    <tr>\n",
       "      <th>1</th>\n",
       "      <td>37.711807</td>\n",
       "      <td>-122.177658</td>\n",
       "      <td>21st Amendment Brewery</td>\n",
       "      <td>21 Rock</td>\n",
       "      <td>3.5</td>\n",
       "    </tr>\n",
       "    <tr>\n",
       "      <th>2</th>\n",
       "      <td>37.711807</td>\n",
       "      <td>-122.177658</td>\n",
       "      <td>21st Amendment Brewery</td>\n",
       "      <td>Harvest Moon</td>\n",
       "      <td>4.0</td>\n",
       "    </tr>\n",
       "    <tr>\n",
       "      <th>3</th>\n",
       "      <td>37.711807</td>\n",
       "      <td>-122.177658</td>\n",
       "      <td>21st Amendment Brewery</td>\n",
       "      <td>21st Amendment IPA</td>\n",
       "      <td>4.0</td>\n",
       "    </tr>\n",
       "    <tr>\n",
       "      <th>4</th>\n",
       "      <td>37.711807</td>\n",
       "      <td>-122.177658</td>\n",
       "      <td>21st Amendment Brewery</td>\n",
       "      <td>Monk's Blood</td>\n",
       "      <td>4.0</td>\n",
       "    </tr>\n",
       "  </tbody>\n",
       "</table>\n",
       "</div>"
      ],
      "text/plain": [
       "         lat        long            brewery_name           beer_name  \\\n",
       "0  37.711807 -122.177658  21st Amendment Brewery            Hop Caen   \n",
       "1  37.711807 -122.177658  21st Amendment Brewery             21 Rock   \n",
       "2  37.711807 -122.177658  21st Amendment Brewery        Harvest Moon   \n",
       "3  37.711807 -122.177658  21st Amendment Brewery  21st Amendment IPA   \n",
       "4  37.711807 -122.177658  21st Amendment Brewery        Monk's Blood   \n",
       "\n",
       "   review_overall  \n",
       "0             4.5  \n",
       "1             3.5  \n",
       "2             4.0  \n",
       "3             4.0  \n",
       "4             4.0  "
      ]
     },
     "execution_count": 3,
     "metadata": {},
     "output_type": "execute_result"
    }
   ],
   "source": [
    "# create new pd.dataframe of ONLY columns lat, long, brewery_name, beer_name and review_overall \n",
    "columns_to_include = ['lat', 'long', 'brewery_name', 'beer_name', 'review_overall']\n",
    "\n",
    "# create new dataframe with selected columns\n",
    "locate_df = all_beer_df.loc[:, columns_to_include]\n",
    "locate_df.head()"
   ]
  },
  {
   "cell_type": "code",
   "execution_count": 4,
   "metadata": {},
   "outputs": [
    {
     "name": "stdout",
     "output_type": "stream",
     "text": [
      "Computing the cosine similarity matrix...\n",
      "Done computing similarity matrix.\n",
      "MSE: 0.3525\n",
      "MAE:  0.4405\n"
     ]
    },
    {
     "data": {
      "text/plain": [
       "0.4404953647352639"
      ]
     },
     "execution_count": 4,
     "metadata": {},
     "output_type": "execute_result"
    }
   ],
   "source": [
    "# create model of users, beers, and ratings\n",
    "#Running a model with KNNBasic\n",
    "from surprise import KNNBasic\n",
    "from surprise import Dataset\n",
    "from surprise import Reader\n",
    "from surprise import accuracy\n",
    "from surprise.model_selection import train_test_split\n",
    "\n",
    "reader = Reader(rating_scale=(1, 5))\n",
    "data = Dataset.load_from_df(locate_df[['brewery_name', 'beer_name', 'review_overall']], reader)\n",
    "\n",
    "trainset, testset = train_test_split(data, test_size=.25)\n",
    "\n",
    "sim_options = {'name': 'cosine', 'user_based': True}\n",
    "model = KNNBasic(sim_options=sim_options)\n",
    "model.fit(trainset)\n",
    "predictions = model.test(testset)\n",
    "\n",
    "accuracy.mse(predictions)\n",
    "accuracy.mae(predictions)"
   ]
  },
  {
   "cell_type": "code",
   "execution_count": 5,
   "metadata": {},
   "outputs": [
    {
     "name": "stdout",
     "output_type": "stream",
     "text": [
      "Computing the cosine similarity matrix...\n",
      "Done computing similarity matrix.\n",
      "Computing the cosine similarity matrix...\n",
      "Done computing similarity matrix.\n",
      "Computing the cosine similarity matrix...\n",
      "Done computing similarity matrix.\n",
      "Computing the cosine similarity matrix...\n",
      "Done computing similarity matrix.\n",
      "Computing the cosine similarity matrix...\n",
      "Done computing similarity matrix.\n",
      "Evaluating RMSE, MAE of algorithm KNNBasic on 5 split(s).\n",
      "\n",
      "                  Fold 1  Fold 2  Fold 3  Fold 4  Fold 5  Mean    Std     \n",
      "RMSE (testset)    0.5929  0.5903  0.5994  0.5951  0.5904  0.5936  0.0034  \n",
      "MAE (testset)     0.4419  0.4397  0.4450  0.4434  0.4399  0.4420  0.0020  \n",
      "Fit time          1.29    1.32    1.33    1.33    1.33    1.32    0.02    \n",
      "Test time         8.26    8.60    8.76    8.64    8.50    8.55    0.17    \n"
     ]
    },
    {
     "data": {
      "text/plain": [
       "{'test_rmse': array([0.5928843 , 0.59026479, 0.59935437, 0.59510948, 0.59038974]),\n",
       " 'test_mae': array([0.44189593, 0.43973676, 0.44495726, 0.44337783, 0.4399302 ]),\n",
       " 'fit_time': (1.2936038970947266,\n",
       "  1.3231737613677979,\n",
       "  1.333704948425293,\n",
       "  1.3318729400634766,\n",
       "  1.3349876403808594),\n",
       " 'test_time': (8.259610176086426,\n",
       "  8.595849990844727,\n",
       "  8.75997281074524,\n",
       "  8.640898942947388,\n",
       "  8.495603322982788)}"
      ]
     },
     "execution_count": 5,
     "metadata": {},
     "output_type": "execute_result"
    }
   ],
   "source": [
    "# Checking for overfitting with cross validation\n",
    "from surprise.model_selection import cross_validate\n",
    "\n",
    "cross_validate(model, data, measures=['RMSE', 'MAE'], cv=5, verbose=True)"
   ]
  },
  {
   "cell_type": "code",
   "execution_count": 6,
   "metadata": {},
   "outputs": [],
   "source": [
    "# create recommendation function that finds the 5 closest brewery coordinates using lat and long columns and returns the top 5 beers from each brewery, not repeating beers or breweries\n",
    "# https://stackoverflow.com/questions/41336756/find-the-closest-latitude-and-longitude - source\n",
    "# use haversine formula to find nearest brewery coordinates\n",
    "# use .isin() to find beers from nearest breweries\n",
    "# use .value_counts() to find top 5 beers from nearest breweries\n",
    "# use .index to return top 5 beers from nearest breweries\n",
    "# use .unique() to return unique beers from nearest breweries\n",
    "# use .tolist() to return list of beers from nearest breweries"
   ]
  },
  {
   "cell_type": "code",
   "execution_count": 7,
   "metadata": {},
   "outputs": [],
   "source": [
    "from math import radians, sin, cos, sqrt, atan2\n",
    "import pandas as pd\n",
    "\n",
    "def recommend_beers(latitude, longitude, locate_df):\n",
    "    # convert latitude and longitude to radians\n",
    "    lat1 = radians(latitude)\n",
    "    lon1 = radians(longitude)\n",
    "\n",
    "    # calculate distances using haversine formula\n",
    "    R = 6371.0  # radius of the earth in km\n",
    "    distances = []\n",
    "    for lat2, lon2 in zip(locate_df['lat'], locate_df['long']):\n",
    "        lat2 = radians(lat2)\n",
    "        lon2 = radians(lon2)\n",
    "        dlon = lon2 - lon1\n",
    "        dlat = lat2 - lat1\n",
    "        a = sin(dlat / 2)**2 + cos(lat1) * cos(lat2) * sin(dlon / 2)**2\n",
    "        c = 2 * atan2(sqrt(a), sqrt(1 - a))\n",
    "        distance = R * c\n",
    "        distances.append(distance)\n",
    "\n",
    "    # add distances to dataframe\n",
    "    locate_df['distance'] = distances\n",
    "\n",
    "    # find 5 closest breweries\n",
    "    closest_breweries = locate_df.sort_values('distance').drop_duplicates('brewery_name').head(5)\n",
    "\n",
    "    # find top 5 beers from each brewery\n",
    "    for i, brewery in enumerate(closest_breweries['brewery_name']):\n",
    "        beers = locate_df.loc[locate_df['brewery_name'] == brewery, 'beer_name']\n",
    "        beers = beers.value_counts().index[:5].tolist()\n",
    "        print(f\"Brewery {i+1}: {brewery}\")\n",
    "        print(f\"Top 5 beers: {beers}\\n\")\n"
   ]
  },
  {
   "cell_type": "code",
   "execution_count": 8,
   "metadata": {},
   "outputs": [
    {
     "name": "stdout",
     "output_type": "stream",
     "text": [
      "Brewery 1: Glacier Brewhouse\n",
      "Top 5 beers: ['India Pale Ale', 'Big Woody Barley Wine', 'Amber Ale', 'Ice Axe Ale (Imperial Blonde)', 'Oatmeal Stout']\n",
      "\n",
      "Brewery 2: Black Bear Brewery\n",
      "Top 5 beers: ['Black Bear Pail Ale', 'Black Bear Voodoo Bear Porter', 'Black Bear Gearhead Ale', 'Black Bear Blueberry Ale', 'Black Bear Slap Shot']\n",
      "\n",
      "Brewery 3: Bar Harbor Brewing Company\n",
      "Top 5 beers: ['Cadillac Mountain Stout', 'Thunder Hole Ale', 'Harbor Lighthouse Ale', '\"True Blue\" Blueberry Ale', 'Ginger Mild Brew']\n",
      "\n",
      "Brewery 4: Atlantic Brewing Company\n",
      "Top 5 beers: ['Bar Harbor Blueberry Ale', 'Coal Porter', 'Bar Harbor Real Ale', \"Brother Adam's Bragget Ale\", 'Mount Desert Island Ginger']\n",
      "\n",
      "Brewery 5: Oak Pond Brewing Company\n",
      "Top 5 beers: ['OPB Nut Brown Ale', 'Storyteller Doppelbock', 'White Fox Ale', 'Dooryard Ale', 'Oktoberfest']\n",
      "\n"
     ]
    }
   ],
   "source": [
    "latitude = 43.7848\n",
    "longitude = 74.7278\n",
    "recommend_beers(latitude, longitude, locate_df)"
   ]
  },
  {
   "cell_type": "markdown",
   "metadata": {},
   "source": [
    "### Checking to make sure the function created works as it's intended"
   ]
  },
  {
   "cell_type": "code",
   "execution_count": 9,
   "metadata": {},
   "outputs": [
    {
     "name": "stdout",
     "output_type": "stream",
     "text": [
      "Top 5 beers from Glacier Brewhouse: ['India Pale Ale', 'Big Woody Barley Wine', 'Amber Ale', 'Ice Axe Ale (Imperial Blonde)', 'Oatmeal Stout']\n",
      "\n"
     ]
    }
   ],
   "source": [
    "# find top 5 rated beers from specific brewery\n",
    "\n",
    "def top_rated_beers(brewery_name, locate_df):\n",
    "    beers = locate_df.loc[locate_df['brewery_name'] == brewery_name, 'beer_name']\n",
    "    beers = beers.value_counts().index[:5].tolist()\n",
    "    print(f\"Top 5 beers from {brewery_name}: {beers}\\n\")\n",
    "\n",
    "top_rated_beers('Glacier Brewhouse', locate_df)"
   ]
  }
 ],
 "metadata": {
  "kernelspec": {
   "display_name": "Python 3",
   "language": "python",
   "name": "python3"
  },
  "language_info": {
   "codemirror_mode": {
    "name": "ipython",
    "version": 3
   },
   "file_extension": ".py",
   "mimetype": "text/x-python",
   "name": "python",
   "nbconvert_exporter": "python",
   "pygments_lexer": "ipython3",
   "version": "3.8.5"
  }
 },
 "nbformat": 4,
 "nbformat_minor": 4
}
