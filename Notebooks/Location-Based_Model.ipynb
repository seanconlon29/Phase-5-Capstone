{
 "cells": [
  {
   "cell_type": "markdown",
   "metadata": {},
   "source": [
    "# Location-Based Model"
   ]
  },
  {
   "attachments": {},
   "cell_type": "markdown",
   "metadata": {},
   "source": [
    "The following sources were used to perform this model:\n",
    "\n",
    "https://stackoverflow.com/questions/41336756/find-the-closest-latitude-and-longitude\n",
    "https://towardsdatascience.com/location-based-recommendations-bb70af7b1538\n",
    "\n",
    "To prepare the model, the necessary packages were imported and a csv file was read into a dataframe. The dataframe was then filtered to include only the relevant columns for the recommendation system, including latitude, longitude, brewery name, beer name, and reviews.\n",
    "\n",
    "Next, a KNNBasic model was performed using the surprise package and a train-test split with a default test size of 25%. KNNBasic was chosen as it performed better on the mean average error and mean squared error metrics. A cross-validation was also performed to check for overfitting, and the results showed consistent validation.\n",
    "\n",
    "##### Running this model, it uses the haversine formula to correctly run the recommend_beers function. \n",
    "\n",
    "The recommendation system used the haversine formula to run the recommend_beers function. The function converted the latitude and longitude inputs to radians and iterated through each brewery in the dataframe to calculate the distance between the input location and the brewery using the formula. The distances were stored in a list called distances.\n",
    "\n",
    "The function then sorted the dataframe by distance and dropped any duplicated brewery name values to provide the five closest breweries to the input latitude and longitude. For each of the five breweries, the function looped through their reviews to find their top five rated beers, providing the user with a destination as well as recommended beers."
   ]
  },
  {
   "cell_type": "code",
   "execution_count": 1,
   "metadata": {},
   "outputs": [],
   "source": [
    "#import necessary packages\n",
    "import pandas as pd"
   ]
  },
  {
   "cell_type": "code",
   "execution_count": 2,
   "metadata": {},
   "outputs": [],
   "source": [
    "# read in all_beer_df.csv \n",
    "all_beer_df = pd.read_csv('data/all_beer_df.csv', low_memory=False)"
   ]
  },
  {
   "cell_type": "code",
   "execution_count": 3,
   "metadata": {},
   "outputs": [
    {
     "data": {
      "text/html": [
       "<div>\n",
       "<style scoped>\n",
       "    .dataframe tbody tr th:only-of-type {\n",
       "        vertical-align: middle;\n",
       "    }\n",
       "\n",
       "    .dataframe tbody tr th {\n",
       "        vertical-align: top;\n",
       "    }\n",
       "\n",
       "    .dataframe thead th {\n",
       "        text-align: right;\n",
       "    }\n",
       "</style>\n",
       "<table border=\"1\" class=\"dataframe\">\n",
       "  <thead>\n",
       "    <tr style=\"text-align: right;\">\n",
       "      <th></th>\n",
       "      <th>lat</th>\n",
       "      <th>long</th>\n",
       "      <th>brewery_name</th>\n",
       "      <th>beer_name</th>\n",
       "      <th>review_overall</th>\n",
       "    </tr>\n",
       "  </thead>\n",
       "  <tbody>\n",
       "    <tr>\n",
       "      <th>0</th>\n",
       "      <td>37.711807</td>\n",
       "      <td>-122.177658</td>\n",
       "      <td>21st Amendment Brewery</td>\n",
       "      <td>Hop Caen</td>\n",
       "      <td>4.5</td>\n",
       "    </tr>\n",
       "    <tr>\n",
       "      <th>1</th>\n",
       "      <td>37.711807</td>\n",
       "      <td>-122.177658</td>\n",
       "      <td>21st Amendment Brewery</td>\n",
       "      <td>21 Rock</td>\n",
       "      <td>3.5</td>\n",
       "    </tr>\n",
       "    <tr>\n",
       "      <th>2</th>\n",
       "      <td>37.711807</td>\n",
       "      <td>-122.177658</td>\n",
       "      <td>21st Amendment Brewery</td>\n",
       "      <td>Harvest Moon</td>\n",
       "      <td>4.0</td>\n",
       "    </tr>\n",
       "    <tr>\n",
       "      <th>3</th>\n",
       "      <td>37.711807</td>\n",
       "      <td>-122.177658</td>\n",
       "      <td>21st Amendment Brewery</td>\n",
       "      <td>21st Amendment IPA</td>\n",
       "      <td>4.0</td>\n",
       "    </tr>\n",
       "    <tr>\n",
       "      <th>4</th>\n",
       "      <td>37.711807</td>\n",
       "      <td>-122.177658</td>\n",
       "      <td>21st Amendment Brewery</td>\n",
       "      <td>Monk's Blood</td>\n",
       "      <td>4.0</td>\n",
       "    </tr>\n",
       "  </tbody>\n",
       "</table>\n",
       "</div>"
      ],
      "text/plain": [
       "         lat        long            brewery_name           beer_name  \\\n",
       "0  37.711807 -122.177658  21st Amendment Brewery            Hop Caen   \n",
       "1  37.711807 -122.177658  21st Amendment Brewery             21 Rock   \n",
       "2  37.711807 -122.177658  21st Amendment Brewery        Harvest Moon   \n",
       "3  37.711807 -122.177658  21st Amendment Brewery  21st Amendment IPA   \n",
       "4  37.711807 -122.177658  21st Amendment Brewery        Monk's Blood   \n",
       "\n",
       "   review_overall  \n",
       "0             4.5  \n",
       "1             3.5  \n",
       "2             4.0  \n",
       "3             4.0  \n",
       "4             4.0  "
      ]
     },
     "execution_count": 3,
     "metadata": {},
     "output_type": "execute_result"
    }
   ],
   "source": [
    "# create new pd.dataframe of ONLY columns lat, long, brewery_name, beer_name and review_overall \n",
    "columns_to_include = ['lat', 'long', 'brewery_name', 'beer_name', 'review_overall']\n",
    "\n",
    "# create new dataframe with selected columns\n",
    "locate_df = all_beer_df.loc[:, columns_to_include]\n",
    "locate_df.head()"
   ]
  },
  {
   "cell_type": "code",
   "execution_count": 4,
   "metadata": {},
   "outputs": [
    {
     "name": "stdout",
     "output_type": "stream",
     "text": [
      "Computing the cosine similarity matrix...\n",
      "Done computing similarity matrix.\n",
      "MSE: 0.3540\n",
      "MAE:  0.4419\n"
     ]
    },
    {
     "data": {
      "text/plain": [
       "0.44193186454112665"
      ]
     },
     "execution_count": 4,
     "metadata": {},
     "output_type": "execute_result"
    }
   ],
   "source": [
    "# create model of users, beers, and ratings\n",
    "#Running a model with KNNBasic\n",
    "from surprise import KNNBasic\n",
    "from surprise import Dataset\n",
    "from surprise import Reader\n",
    "from surprise import accuracy\n",
    "from surprise.model_selection import train_test_split\n",
    "\n",
    "reader = Reader(rating_scale=(1, 5))\n",
    "data = Dataset.load_from_df(locate_df[['brewery_name', 'beer_name', 'review_overall']], reader)\n",
    "\n",
    "trainset, testset = train_test_split(data, test_size=.25)\n",
    "\n",
    "sim_options = {'name': 'cosine', 'user_based': True}\n",
    "model = KNNBasic(sim_options=sim_options)\n",
    "model.fit(trainset)\n",
    "predictions = model.test(testset)\n",
    "\n",
    "accuracy.mse(predictions)\n",
    "accuracy.mae(predictions)"
   ]
  },
  {
   "cell_type": "code",
   "execution_count": 5,
   "metadata": {},
   "outputs": [
    {
     "name": "stdout",
     "output_type": "stream",
     "text": [
      "Computing the cosine similarity matrix...\n",
      "Done computing similarity matrix.\n",
      "Computing the cosine similarity matrix...\n",
      "Done computing similarity matrix.\n",
      "Computing the cosine similarity matrix...\n",
      "Done computing similarity matrix.\n",
      "Computing the cosine similarity matrix...\n",
      "Done computing similarity matrix.\n",
      "Computing the cosine similarity matrix...\n",
      "Done computing similarity matrix.\n",
      "Evaluating RMSE, MAE of algorithm KNNBasic on 5 split(s).\n",
      "\n",
      "                  Fold 1  Fold 2  Fold 3  Fold 4  Fold 5  Mean    Std     \n",
      "RMSE (testset)    0.5924  0.5901  0.5937  0.5938  0.5934  0.5927  0.0014  \n",
      "MAE (testset)     0.4407  0.4402  0.4409  0.4428  0.4410  0.4411  0.0009  \n",
      "Fit time          1.32    1.35    1.32    1.32    1.31    1.32    0.01    \n",
      "Test time         9.58    9.33    9.02    9.10    9.22    9.25    0.20    \n"
     ]
    },
    {
     "data": {
      "text/plain": [
       "{'test_rmse': array([0.59237581, 0.59005371, 0.59374689, 0.59382234, 0.59344682]),\n",
       " 'test_mae': array([0.44068214, 0.44017829, 0.44087082, 0.44281595, 0.44102904]),\n",
       " 'fit_time': (1.3219170570373535,\n",
       "  1.3513970375061035,\n",
       "  1.3203928470611572,\n",
       "  1.3194010257720947,\n",
       "  1.3081858158111572),\n",
       " 'test_time': (9.57987904548645,\n",
       "  9.333570003509521,\n",
       "  9.018429279327393,\n",
       "  9.097063779830933,\n",
       "  9.21616816520691)}"
      ]
     },
     "execution_count": 5,
     "metadata": {},
     "output_type": "execute_result"
    }
   ],
   "source": [
    "# Checking for overfitting with cross validation\n",
    "from surprise.model_selection import cross_validate\n",
    "\n",
    "cross_validate(model, data, measures=['RMSE', 'MAE'], cv=5, verbose=True)"
   ]
  },
  {
   "cell_type": "code",
   "execution_count": 6,
   "metadata": {},
   "outputs": [],
   "source": [
    "# create recommendation function that finds the 5 closest brewery coordinates using lat and long columns and returns the top 5 beers from each brewery, not repeating beers or breweries\n",
    "# https://stackoverflow.com/questions/41336756/find-the-closest-latitude-and-longitude - source\n",
    "# use haversine formula to find nearest brewery coordinates\n",
    "# use .isin() to find beers from nearest breweries\n",
    "# use .value_counts() to find top 5 beers from nearest breweries\n",
    "# use .index to return top 5 beers from nearest breweries\n",
    "# use .unique() to return unique beers from nearest breweries\n",
    "# use .tolist() to return list of beers from nearest breweries"
   ]
  },
  {
   "cell_type": "code",
   "execution_count": 7,
   "metadata": {},
   "outputs": [],
   "source": [
    "from math import radians, sin, cos, sqrt, atan2\n",
    "import pandas as pd\n",
    "\n",
    "def recommend_beers(latitude, longitude, locate_df):\n",
    "    # convert latitude and longitude to radians\n",
    "    lat1 = radians(latitude)\n",
    "    lon1 = radians(longitude)\n",
    "\n",
    "    # calculate distances using haversine formula\n",
    "    R = 6371.0  # radius of the earth in km\n",
    "    distances = []\n",
    "    for lat2, lon2 in zip(locate_df['lat'], locate_df['long']):\n",
    "        lat2 = radians(lat2)\n",
    "        lon2 = radians(lon2)\n",
    "        dlon = lon2 - lon1\n",
    "        dlat = lat2 - lat1\n",
    "        a = sin(dlat / 2)**2 + cos(lat1) * cos(lat2) * sin(dlon / 2)**2\n",
    "        c = 2 * atan2(sqrt(a), sqrt(1 - a))\n",
    "        distance = R * c\n",
    "        distances.append(distance)\n",
    "\n",
    "    # add distances to dataframe\n",
    "    locate_df['distance'] = distances\n",
    "\n",
    "    # find 5 closest breweries\n",
    "    closest_breweries = locate_df.sort_values('distance').drop_duplicates('brewery_name').head(5)\n",
    "\n",
    "    # find top 5 beers from each brewery\n",
    "    for i, brewery in enumerate(closest_breweries['brewery_name']):\n",
    "        beers = locate_df.loc[locate_df['brewery_name'] == brewery, 'beer_name']\n",
    "        beers = beers.value_counts().index[:5].tolist()\n",
    "        print(f\"Brewery {i+1}: {brewery}\")\n",
    "        print(f\"Top 5 beers: {beers}\\n\")\n"
   ]
  },
  {
   "attachments": {},
   "cell_type": "markdown",
   "metadata": {},
   "source": [
    "#### Will use the coordinates of Flatiron School to test the model"
   ]
  },
  {
   "cell_type": "code",
   "execution_count": 8,
   "metadata": {},
   "outputs": [
    {
     "name": "stdout",
     "output_type": "stream",
     "text": [
      "Brewery 1: Brooklyn Brewery\n",
      "Top 5 beers: ['Brooklyn Black Chocolate Stout', 'Brooklyn Lager', 'Brooklyn Monster Ale', 'Brooklyn Brown Ale', 'Brooklyn East India Pale Ale']\n",
      "\n",
      "Brewery 2: Trap Rock Restaurant & Brewery\n",
      "Top 5 beers: ['Kestrel&#8217;s Joy IPA', 'Ghost Pony Helles Lager', 'Chainsaw Double IPA', 'Hathor Red Lager', 'Schroeder Weiss']\n",
      "\n",
      "Brewery 3: Port Jeff Brewing Company\n",
      "Top 5 beers: ['Port Jeff Porter', 'Low Tide Black IPA', 'Schooner Ale', 'Boo Brew', 'Cold North Wind']\n",
      "\n",
      "Brewery 4: Blue Point Brewing Company\n",
      "Top 5 beers: ['Hoptical Illusion', 'Blue Point Toasted Lager', 'Blue Point Rastafa Rye Ale', 'Blue Point Blueberry', 'Blue Point Winter Ale']\n",
      "\n",
      "Brewery 5: The Ship Inn\n",
      "Top 5 beers: ['Best Bitter', 'Extra Special Bitter', 'Golden Wheat Light', 'Killer Bee', 'Spring Mild']\n",
      "\n"
     ]
    }
   ],
   "source": [
    "latitude = 40.70542603644052\n",
    "longitude = -74.01387181694061\n",
    "recommend_beers(latitude, longitude, locate_df)"
   ]
  },
  {
   "cell_type": "markdown",
   "metadata": {},
   "source": [
    "### Checking to make sure the function created works as it's intended"
   ]
  },
  {
   "cell_type": "code",
   "execution_count": 9,
   "metadata": {},
   "outputs": [
    {
     "name": "stdout",
     "output_type": "stream",
     "text": [
      "Top 5 beers from Glacier Brewhouse: ['India Pale Ale', 'Big Woody Barley Wine', 'Ice Axe Ale (Imperial Blonde)', 'Amber Ale', 'Oatmeal Stout']\n",
      "\n"
     ]
    }
   ],
   "source": [
    "# find top 5 rated beers from specific brewery\n",
    "\n",
    "def top_rated_beers(brewery_name, locate_df):\n",
    "    beers = locate_df.loc[locate_df['brewery_name'] == brewery_name, 'beer_name']\n",
    "    beers = beers.value_counts().index[:5].tolist()\n",
    "    print(f\"Top 5 beers from {brewery_name}: {beers}\\n\")\n",
    "\n",
    "top_rated_beers('Glacier Brewhouse', locate_df)"
   ]
  }
 ],
 "metadata": {
  "kernelspec": {
   "display_name": "Python 3",
   "language": "python",
   "name": "python3"
  },
  "language_info": {
   "codemirror_mode": {
    "name": "ipython",
    "version": 3
   },
   "file_extension": ".py",
   "mimetype": "text/x-python",
   "name": "python",
   "nbconvert_exporter": "python",
   "pygments_lexer": "ipython3",
   "version": "3.8.5"
  }
 },
 "nbformat": 4,
 "nbformat_minor": 4
}
