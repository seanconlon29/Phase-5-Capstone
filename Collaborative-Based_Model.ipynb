{
 "cells": [
  {
   "cell_type": "code",
   "execution_count": 10,
   "metadata": {},
   "outputs": [],
   "source": [
    "import pandas as pd\n",
    "import matplotlib.pyplot as plt\n",
    "import numpy as np\n"
   ]
  },
  {
   "cell_type": "code",
   "execution_count": 11,
   "metadata": {},
   "outputs": [],
   "source": [
    "# show all columns \n",
    "pd.set_option('display.max_columns', None)"
   ]
  },
  {
   "cell_type": "code",
   "execution_count": 12,
   "metadata": {},
   "outputs": [
    {
     "data": {
      "text/html": [
       "<div>\n",
       "<style scoped>\n",
       "    .dataframe tbody tr th:only-of-type {\n",
       "        vertical-align: middle;\n",
       "    }\n",
       "\n",
       "    .dataframe tbody tr th {\n",
       "        vertical-align: top;\n",
       "    }\n",
       "\n",
       "    .dataframe thead th {\n",
       "        text-align: right;\n",
       "    }\n",
       "</style>\n",
       "<table border=\"1\" class=\"dataframe\">\n",
       "  <thead>\n",
       "    <tr style=\"text-align: right;\">\n",
       "      <th></th>\n",
       "      <th>address</th>\n",
       "      <th>categories</th>\n",
       "      <th>city</th>\n",
       "      <th>country</th>\n",
       "      <th>key</th>\n",
       "      <th>lat</th>\n",
       "      <th>long</th>\n",
       "      <th>brewery_name</th>\n",
       "      <th>phones</th>\n",
       "      <th>postalCode</th>\n",
       "      <th>province</th>\n",
       "      <th>websites</th>\n",
       "      <th>index</th>\n",
       "      <th>brewery_id</th>\n",
       "      <th>review_time</th>\n",
       "      <th>review_overall</th>\n",
       "      <th>review_aroma</th>\n",
       "      <th>review_appearance</th>\n",
       "      <th>review_profilename</th>\n",
       "      <th>beer_style</th>\n",
       "      <th>review_palate</th>\n",
       "      <th>review_taste</th>\n",
       "      <th>beer_name</th>\n",
       "      <th>beer_abv</th>\n",
       "      <th>beer_beerid</th>\n",
       "      <th>review_year</th>\n",
       "      <th>review_month</th>\n",
       "    </tr>\n",
       "  </thead>\n",
       "  <tbody>\n",
       "    <tr>\n",
       "      <th>0</th>\n",
       "      <td>2010 Williams St</td>\n",
       "      <td>Brewery</td>\n",
       "      <td>San Leandro</td>\n",
       "      <td>US</td>\n",
       "      <td>us/ca/sanleandro/2010williamsst</td>\n",
       "      <td>37.711807</td>\n",
       "      <td>-122.177658</td>\n",
       "      <td>21st Amendment Brewery</td>\n",
       "      <td>5105952111</td>\n",
       "      <td>94577</td>\n",
       "      <td>CA</td>\n",
       "      <td>http://21st-amendment.com</td>\n",
       "      <td>1495017</td>\n",
       "      <td>735</td>\n",
       "      <td>2011-03-01 00:49:43</td>\n",
       "      <td>3.5</td>\n",
       "      <td>3.5</td>\n",
       "      <td>4.0</td>\n",
       "      <td>illidurit</td>\n",
       "      <td>American Double / Imperial IPA</td>\n",
       "      <td>3.5</td>\n",
       "      <td>3.5</td>\n",
       "      <td>21 Rock</td>\n",
       "      <td>9.7</td>\n",
       "      <td>66190</td>\n",
       "      <td>2011</td>\n",
       "      <td>3</td>\n",
       "    </tr>\n",
       "    <tr>\n",
       "      <th>1</th>\n",
       "      <td>2010 Williams St</td>\n",
       "      <td>Brewery</td>\n",
       "      <td>San Leandro</td>\n",
       "      <td>US</td>\n",
       "      <td>us/ca/sanleandro/2010williamsst</td>\n",
       "      <td>37.711807</td>\n",
       "      <td>-122.177658</td>\n",
       "      <td>21st Amendment Brewery</td>\n",
       "      <td>5105952111</td>\n",
       "      <td>94577</td>\n",
       "      <td>CA</td>\n",
       "      <td>http://21st-amendment.com</td>\n",
       "      <td>1495350</td>\n",
       "      <td>735</td>\n",
       "      <td>2008-12-04 19:03:15</td>\n",
       "      <td>4.0</td>\n",
       "      <td>4.0</td>\n",
       "      <td>4.0</td>\n",
       "      <td>magictrokini</td>\n",
       "      <td>American IPA</td>\n",
       "      <td>3.0</td>\n",
       "      <td>4.0</td>\n",
       "      <td>Harvest Moon</td>\n",
       "      <td>6.4</td>\n",
       "      <td>45648</td>\n",
       "      <td>2008</td>\n",
       "      <td>12</td>\n",
       "    </tr>\n",
       "    <tr>\n",
       "      <th>2</th>\n",
       "      <td>2010 Williams St</td>\n",
       "      <td>Brewery</td>\n",
       "      <td>San Leandro</td>\n",
       "      <td>US</td>\n",
       "      <td>us/ca/sanleandro/2010williamsst</td>\n",
       "      <td>37.711807</td>\n",
       "      <td>-122.177658</td>\n",
       "      <td>21st Amendment Brewery</td>\n",
       "      <td>5105952111</td>\n",
       "      <td>94577</td>\n",
       "      <td>CA</td>\n",
       "      <td>http://21st-amendment.com</td>\n",
       "      <td>1495733</td>\n",
       "      <td>735</td>\n",
       "      <td>2010-01-23 20:55:46</td>\n",
       "      <td>4.0</td>\n",
       "      <td>4.0</td>\n",
       "      <td>3.5</td>\n",
       "      <td>HapWifeHapLife</td>\n",
       "      <td>American IPA</td>\n",
       "      <td>4.0</td>\n",
       "      <td>4.0</td>\n",
       "      <td>21st Amendment IPA</td>\n",
       "      <td>7.0</td>\n",
       "      <td>20781</td>\n",
       "      <td>2010</td>\n",
       "      <td>1</td>\n",
       "    </tr>\n",
       "    <tr>\n",
       "      <th>3</th>\n",
       "      <td>2010 Williams St</td>\n",
       "      <td>Brewery</td>\n",
       "      <td>San Leandro</td>\n",
       "      <td>US</td>\n",
       "      <td>us/ca/sanleandro/2010williamsst</td>\n",
       "      <td>37.711807</td>\n",
       "      <td>-122.177658</td>\n",
       "      <td>21st Amendment Brewery</td>\n",
       "      <td>5105952111</td>\n",
       "      <td>94577</td>\n",
       "      <td>CA</td>\n",
       "      <td>http://21st-amendment.com</td>\n",
       "      <td>1501253</td>\n",
       "      <td>735</td>\n",
       "      <td>2010-04-08 18:58:54</td>\n",
       "      <td>4.0</td>\n",
       "      <td>3.5</td>\n",
       "      <td>4.5</td>\n",
       "      <td>pwoody11</td>\n",
       "      <td>Belgian Strong Dark Ale</td>\n",
       "      <td>4.0</td>\n",
       "      <td>4.0</td>\n",
       "      <td>Monk's Blood</td>\n",
       "      <td>8.3</td>\n",
       "      <td>52510</td>\n",
       "      <td>2010</td>\n",
       "      <td>4</td>\n",
       "    </tr>\n",
       "    <tr>\n",
       "      <th>4</th>\n",
       "      <td>2010 Williams St</td>\n",
       "      <td>Brewery</td>\n",
       "      <td>San Leandro</td>\n",
       "      <td>US</td>\n",
       "      <td>us/ca/sanleandro/2010williamsst</td>\n",
       "      <td>37.711807</td>\n",
       "      <td>-122.177658</td>\n",
       "      <td>21st Amendment Brewery</td>\n",
       "      <td>5105952111</td>\n",
       "      <td>94577</td>\n",
       "      <td>CA</td>\n",
       "      <td>http://21st-amendment.com</td>\n",
       "      <td>1501262</td>\n",
       "      <td>735</td>\n",
       "      <td>2010-03-14 16:30:10</td>\n",
       "      <td>4.0</td>\n",
       "      <td>3.5</td>\n",
       "      <td>4.0</td>\n",
       "      <td>metter98</td>\n",
       "      <td>Belgian Strong Dark Ale</td>\n",
       "      <td>4.0</td>\n",
       "      <td>4.5</td>\n",
       "      <td>Monk's Blood</td>\n",
       "      <td>8.3</td>\n",
       "      <td>52510</td>\n",
       "      <td>2010</td>\n",
       "      <td>3</td>\n",
       "    </tr>\n",
       "  </tbody>\n",
       "</table>\n",
       "</div>"
      ],
      "text/plain": [
       "            address categories         city country  \\\n",
       "0  2010 Williams St    Brewery  San Leandro      US   \n",
       "1  2010 Williams St    Brewery  San Leandro      US   \n",
       "2  2010 Williams St    Brewery  San Leandro      US   \n",
       "3  2010 Williams St    Brewery  San Leandro      US   \n",
       "4  2010 Williams St    Brewery  San Leandro      US   \n",
       "\n",
       "                               key        lat        long  \\\n",
       "0  us/ca/sanleandro/2010williamsst  37.711807 -122.177658   \n",
       "1  us/ca/sanleandro/2010williamsst  37.711807 -122.177658   \n",
       "2  us/ca/sanleandro/2010williamsst  37.711807 -122.177658   \n",
       "3  us/ca/sanleandro/2010williamsst  37.711807 -122.177658   \n",
       "4  us/ca/sanleandro/2010williamsst  37.711807 -122.177658   \n",
       "\n",
       "             brewery_name      phones  postalCode province  \\\n",
       "0  21st Amendment Brewery  5105952111       94577       CA   \n",
       "1  21st Amendment Brewery  5105952111       94577       CA   \n",
       "2  21st Amendment Brewery  5105952111       94577       CA   \n",
       "3  21st Amendment Brewery  5105952111       94577       CA   \n",
       "4  21st Amendment Brewery  5105952111       94577       CA   \n",
       "\n",
       "                    websites    index  brewery_id          review_time  \\\n",
       "0  http://21st-amendment.com  1495017         735  2011-03-01 00:49:43   \n",
       "1  http://21st-amendment.com  1495350         735  2008-12-04 19:03:15   \n",
       "2  http://21st-amendment.com  1495733         735  2010-01-23 20:55:46   \n",
       "3  http://21st-amendment.com  1501253         735  2010-04-08 18:58:54   \n",
       "4  http://21st-amendment.com  1501262         735  2010-03-14 16:30:10   \n",
       "\n",
       "   review_overall  review_aroma  review_appearance review_profilename  \\\n",
       "0             3.5           3.5                4.0          illidurit   \n",
       "1             4.0           4.0                4.0       magictrokini   \n",
       "2             4.0           4.0                3.5     HapWifeHapLife   \n",
       "3             4.0           3.5                4.5           pwoody11   \n",
       "4             4.0           3.5                4.0           metter98   \n",
       "\n",
       "                       beer_style  review_palate  review_taste  \\\n",
       "0  American Double / Imperial IPA            3.5           3.5   \n",
       "1                    American IPA            3.0           4.0   \n",
       "2                    American IPA            4.0           4.0   \n",
       "3         Belgian Strong Dark Ale            4.0           4.0   \n",
       "4         Belgian Strong Dark Ale            4.0           4.5   \n",
       "\n",
       "            beer_name  beer_abv  beer_beerid  review_year  review_month  \n",
       "0             21 Rock       9.7        66190         2011             3  \n",
       "1        Harvest Moon       6.4        45648         2008            12  \n",
       "2  21st Amendment IPA       7.0        20781         2010             1  \n",
       "3        Monk's Blood       8.3        52510         2010             4  \n",
       "4        Monk's Blood       8.3        52510         2010             3  "
      ]
     },
     "execution_count": 12,
     "metadata": {},
     "output_type": "execute_result"
    }
   ],
   "source": [
    "# open beer_df.csv\n",
    "beer_df = pd.read_csv('data/beer_df.csv', low_memory=False)\n",
    "beer_df.head()"
   ]
  },
  {
   "attachments": {},
   "cell_type": "markdown",
   "metadata": {},
   "source": [
    "## Baseline Model"
   ]
  },
  {
   "cell_type": "code",
   "execution_count": 13,
   "metadata": {},
   "outputs": [
    {
     "name": "stdout",
     "output_type": "stream",
     "text": [
      "RMSE: 0.8676\n",
      "MAE:  0.6812\n"
     ]
    },
    {
     "data": {
      "text/plain": [
       "0.6811504568438177"
      ]
     },
     "execution_count": 13,
     "metadata": {},
     "output_type": "execute_result"
    }
   ],
   "source": [
    "# create baseline model of beer_df with normal_predictor and train test split from surprise using this link: \n",
    "from surprise import NormalPredictor\n",
    "from surprise import Dataset\n",
    "from surprise import Reader\n",
    "from surprise import accuracy\n",
    "from surprise.model_selection import train_test_split\n",
    "\n",
    "reader = Reader(rating_scale=(1, 5))\n",
    "data = Dataset.load_from_df(beer_df[['review_profilename', 'beer_name', 'review_overall']], reader)\n",
    "\n",
    "trainset, testset = train_test_split(data, test_size=.25)\n",
    "\n",
    "algo = NormalPredictor()\n",
    "algo.fit(trainset)\n",
    "predictions = algo.test(testset)\n",
    "\n",
    "accuracy.rmse(predictions)\n",
    "accuracy.mae(predictions)"
   ]
  },
  {
   "attachments": {},
   "cell_type": "markdown",
   "metadata": {},
   "source": [
    "## Running model with Surprise Package"
   ]
  },
  {
   "attachments": {},
   "cell_type": "markdown",
   "metadata": {},
   "source": [
    "After running a baseline model, we will now run an SVD algoritm to improve our rmse and mae. "
   ]
  },
  {
   "cell_type": "code",
   "execution_count": 14,
   "metadata": {},
   "outputs": [
    {
     "name": "stdout",
     "output_type": "stream",
     "text": [
      "RMSE: 0.5587\n",
      "MAE:  0.4172\n"
     ]
    },
    {
     "data": {
      "text/plain": [
       "0.4172179267610751"
      ]
     },
     "execution_count": 14,
     "metadata": {},
     "output_type": "execute_result"
    }
   ],
   "source": [
    "# Running a model with SVD\n",
    "from surprise import SVD\n",
    "from surprise import Dataset\n",
    "from surprise import Reader\n",
    "from surprise import accuracy\n",
    "from surprise.model_selection import train_test_split\n",
    "\n",
    "reader = Reader(rating_scale=(1, 5))\n",
    "data = Dataset.load_from_df(beer_df[['review_profilename', 'beer_name', 'review_overall']], reader)\n",
    "\n",
    "trainset, testset = train_test_split(data, test_size=.25)\n",
    "\n",
    "algo = SVD()\n",
    "algo.fit(trainset)\n",
    "predictions = algo.test(testset)\n",
    "\n",
    "accuracy.rmse(predictions)\n",
    "accuracy.mae(predictions)\n"
   ]
  },
  {
   "attachments": {},
   "cell_type": "markdown",
   "metadata": {},
   "source": [
    "### Tuned Model running GridSearchCV and RandomizedSearchCV"
   ]
  },
  {
   "cell_type": "code",
   "execution_count": 15,
   "metadata": {},
   "outputs": [
    {
     "name": "stdout",
     "output_type": "stream",
     "text": [
      "0.5616435071805842\n",
      "{'n_factors': 50, 'n_epochs': 60, 'lr_all': 0.002, 'reg_all': 0.4}\n"
     ]
    }
   ],
   "source": [
    "# run model svd using gridsearchcv\n",
    "from surprise import SVD\n",
    "from surprise import Dataset\n",
    "from surprise import Reader\n",
    "from surprise import accuracy\n",
    "from surprise.model_selection import train_test_split\n",
    "from surprise.model_selection import GridSearchCV\n",
    "\n",
    "reader = Reader(rating_scale=(1.0, 5.0))\n",
    "data = Dataset.load_from_df(beer_df[['review_profilename', 'beer_name', 'review_overall']], reader)\n",
    "\n",
    "param_grid = {'n_factors': [50, 100, 150], 'n_epochs': [20, 40, 60], 'lr_all': [0.002, 0.005, 0.008], 'reg_all': [0.4, 0.6, 0.8]}\n",
    "gs = GridSearchCV(SVD, param_grid, measures=['rmse', 'mae'], cv=3)\n",
    "\n",
    "gs.fit(data)\n",
    "\n",
    "print(gs.best_score['rmse'])\n",
    "print(gs.best_params['rmse'])\n"
   ]
  },
  {
   "cell_type": "code",
   "execution_count": 16,
   "metadata": {},
   "outputs": [
    {
     "name": "stdout",
     "output_type": "stream",
     "text": [
      "0.5618820518744397\n",
      "{'n_factors': 150, 'n_epochs': 40, 'lr_all': 0.005, 'reg_all': 0.4}\n"
     ]
    }
   ],
   "source": [
    "# run model svd using randomizedsearchcv\n",
    "from surprise import SVD\n",
    "from surprise import Dataset\n",
    "from surprise import Reader\n",
    "from surprise import accuracy\n",
    "from surprise.model_selection import train_test_split\n",
    "from surprise.model_selection import RandomizedSearchCV\n",
    "\n",
    "reader = Reader(rating_scale=(1.0, 5.0))\n",
    "data = Dataset.load_from_df(beer_df[['review_profilename', 'beer_name', 'review_overall']], reader)\n",
    "\n",
    "param_grid = {'n_factors': [50, 100, 150], 'n_epochs': [20, 40, 60], 'lr_all': [0.002, 0.005, 0.008], 'reg_all': [0.4, 0.6, 0.8]}\n",
    "gs = RandomizedSearchCV(SVD, param_grid, measures=['rmse', 'mae'], cv=3)\n",
    "\n",
    "gs.fit(data)\n",
    "\n",
    "print(gs.best_score['rmse'])\n",
    "print(gs.best_params['rmse'])\n"
   ]
  },
  {
   "attachments": {},
   "cell_type": "markdown",
   "metadata": {},
   "source": [
    "## Running model with SciKit-Learn"
   ]
  },
  {
   "cell_type": "code",
   "execution_count": 35,
   "metadata": {},
   "outputs": [],
   "source": [
    "# run model using sci-kit learn and truncatedSVD\n"
   ]
  },
  {
   "cell_type": "code",
   "execution_count": null,
   "metadata": {},
   "outputs": [],
   "source": []
  },
  {
   "attachments": {},
   "cell_type": "markdown",
   "metadata": {},
   "source": [
    "### Using the best model to create recommendation system"
   ]
  },
  {
   "cell_type": "code",
   "execution_count": null,
   "metadata": {},
   "outputs": [],
   "source": []
  },
  {
   "cell_type": "code",
   "execution_count": null,
   "metadata": {},
   "outputs": [],
   "source": []
  },
  {
   "cell_type": "code",
   "execution_count": null,
   "metadata": {},
   "outputs": [],
   "source": []
  }
 ],
 "metadata": {
  "kernelspec": {
   "display_name": "learn-env",
   "language": "python",
   "name": "python3"
  },
  "language_info": {
   "codemirror_mode": {
    "name": "ipython",
    "version": 3
   },
   "file_extension": ".py",
   "mimetype": "text/x-python",
   "name": "python",
   "nbconvert_exporter": "python",
   "pygments_lexer": "ipython3",
   "version": "3.8.5"
  }
 },
 "nbformat": 4,
 "nbformat_minor": 4
}
