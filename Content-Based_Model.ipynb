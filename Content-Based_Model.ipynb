{
 "cells": [
  {
   "cell_type": "code",
   "execution_count": 16,
   "metadata": {},
   "outputs": [],
   "source": [
    "#import necessary packages\n",
    "import pandas as pd"
   ]
  },
  {
   "cell_type": "code",
   "execution_count": 17,
   "metadata": {},
   "outputs": [],
   "source": [
    "# show all columns \n",
    "pd.set_option('display.max_columns', None)"
   ]
  },
  {
   "cell_type": "code",
   "execution_count": 18,
   "metadata": {},
   "outputs": [
    {
     "data": {
      "text/html": [
       "<div>\n",
       "<style scoped>\n",
       "    .dataframe tbody tr th:only-of-type {\n",
       "        vertical-align: middle;\n",
       "    }\n",
       "\n",
       "    .dataframe tbody tr th {\n",
       "        vertical-align: top;\n",
       "    }\n",
       "\n",
       "    .dataframe thead th {\n",
       "        text-align: right;\n",
       "    }\n",
       "</style>\n",
       "<table border=\"1\" class=\"dataframe\">\n",
       "  <thead>\n",
       "    <tr style=\"text-align: right;\">\n",
       "      <th></th>\n",
       "      <th>address</th>\n",
       "      <th>categories</th>\n",
       "      <th>city</th>\n",
       "      <th>country</th>\n",
       "      <th>key</th>\n",
       "      <th>lat</th>\n",
       "      <th>long</th>\n",
       "      <th>brewery_name</th>\n",
       "      <th>phones</th>\n",
       "      <th>postalCode</th>\n",
       "      <th>province</th>\n",
       "      <th>websites</th>\n",
       "      <th>index</th>\n",
       "      <th>brewery_id</th>\n",
       "      <th>review_time</th>\n",
       "      <th>review_overall</th>\n",
       "      <th>review_aroma</th>\n",
       "      <th>review_appearance</th>\n",
       "      <th>review_profilename</th>\n",
       "      <th>beer_style</th>\n",
       "      <th>review_palate</th>\n",
       "      <th>review_taste</th>\n",
       "      <th>beer_name</th>\n",
       "      <th>beer_abv</th>\n",
       "      <th>beer_beerid</th>\n",
       "      <th>review_year</th>\n",
       "      <th>review_month</th>\n",
       "    </tr>\n",
       "  </thead>\n",
       "  <tbody>\n",
       "    <tr>\n",
       "      <th>0</th>\n",
       "      <td>2010 Williams St</td>\n",
       "      <td>Brewery</td>\n",
       "      <td>San Leandro</td>\n",
       "      <td>US</td>\n",
       "      <td>us/ca/sanleandro/2010williamsst</td>\n",
       "      <td>37.711807</td>\n",
       "      <td>-122.177658</td>\n",
       "      <td>21st Amendment Brewery</td>\n",
       "      <td>5105952111</td>\n",
       "      <td>94577</td>\n",
       "      <td>CA</td>\n",
       "      <td>http://21st-amendment.com</td>\n",
       "      <td>1495017</td>\n",
       "      <td>735</td>\n",
       "      <td>2011-03-01 00:49:43</td>\n",
       "      <td>3.5</td>\n",
       "      <td>3.5</td>\n",
       "      <td>4.0</td>\n",
       "      <td>illidurit</td>\n",
       "      <td>American Double / Imperial IPA</td>\n",
       "      <td>3.5</td>\n",
       "      <td>3.5</td>\n",
       "      <td>21 Rock</td>\n",
       "      <td>9.7</td>\n",
       "      <td>66190</td>\n",
       "      <td>2011</td>\n",
       "      <td>3</td>\n",
       "    </tr>\n",
       "    <tr>\n",
       "      <th>1</th>\n",
       "      <td>2010 Williams St</td>\n",
       "      <td>Brewery</td>\n",
       "      <td>San Leandro</td>\n",
       "      <td>US</td>\n",
       "      <td>us/ca/sanleandro/2010williamsst</td>\n",
       "      <td>37.711807</td>\n",
       "      <td>-122.177658</td>\n",
       "      <td>21st Amendment Brewery</td>\n",
       "      <td>5105952111</td>\n",
       "      <td>94577</td>\n",
       "      <td>CA</td>\n",
       "      <td>http://21st-amendment.com</td>\n",
       "      <td>1495350</td>\n",
       "      <td>735</td>\n",
       "      <td>2008-12-04 19:03:15</td>\n",
       "      <td>4.0</td>\n",
       "      <td>4.0</td>\n",
       "      <td>4.0</td>\n",
       "      <td>magictrokini</td>\n",
       "      <td>American IPA</td>\n",
       "      <td>3.0</td>\n",
       "      <td>4.0</td>\n",
       "      <td>Harvest Moon</td>\n",
       "      <td>6.4</td>\n",
       "      <td>45648</td>\n",
       "      <td>2008</td>\n",
       "      <td>12</td>\n",
       "    </tr>\n",
       "    <tr>\n",
       "      <th>2</th>\n",
       "      <td>2010 Williams St</td>\n",
       "      <td>Brewery</td>\n",
       "      <td>San Leandro</td>\n",
       "      <td>US</td>\n",
       "      <td>us/ca/sanleandro/2010williamsst</td>\n",
       "      <td>37.711807</td>\n",
       "      <td>-122.177658</td>\n",
       "      <td>21st Amendment Brewery</td>\n",
       "      <td>5105952111</td>\n",
       "      <td>94577</td>\n",
       "      <td>CA</td>\n",
       "      <td>http://21st-amendment.com</td>\n",
       "      <td>1495733</td>\n",
       "      <td>735</td>\n",
       "      <td>2010-01-23 20:55:46</td>\n",
       "      <td>4.0</td>\n",
       "      <td>4.0</td>\n",
       "      <td>3.5</td>\n",
       "      <td>HapWifeHapLife</td>\n",
       "      <td>American IPA</td>\n",
       "      <td>4.0</td>\n",
       "      <td>4.0</td>\n",
       "      <td>21st Amendment IPA</td>\n",
       "      <td>7.0</td>\n",
       "      <td>20781</td>\n",
       "      <td>2010</td>\n",
       "      <td>1</td>\n",
       "    </tr>\n",
       "    <tr>\n",
       "      <th>3</th>\n",
       "      <td>2010 Williams St</td>\n",
       "      <td>Brewery</td>\n",
       "      <td>San Leandro</td>\n",
       "      <td>US</td>\n",
       "      <td>us/ca/sanleandro/2010williamsst</td>\n",
       "      <td>37.711807</td>\n",
       "      <td>-122.177658</td>\n",
       "      <td>21st Amendment Brewery</td>\n",
       "      <td>5105952111</td>\n",
       "      <td>94577</td>\n",
       "      <td>CA</td>\n",
       "      <td>http://21st-amendment.com</td>\n",
       "      <td>1501253</td>\n",
       "      <td>735</td>\n",
       "      <td>2010-04-08 18:58:54</td>\n",
       "      <td>4.0</td>\n",
       "      <td>3.5</td>\n",
       "      <td>4.5</td>\n",
       "      <td>pwoody11</td>\n",
       "      <td>Belgian Strong Dark Ale</td>\n",
       "      <td>4.0</td>\n",
       "      <td>4.0</td>\n",
       "      <td>Monk's Blood</td>\n",
       "      <td>8.3</td>\n",
       "      <td>52510</td>\n",
       "      <td>2010</td>\n",
       "      <td>4</td>\n",
       "    </tr>\n",
       "    <tr>\n",
       "      <th>4</th>\n",
       "      <td>2010 Williams St</td>\n",
       "      <td>Brewery</td>\n",
       "      <td>San Leandro</td>\n",
       "      <td>US</td>\n",
       "      <td>us/ca/sanleandro/2010williamsst</td>\n",
       "      <td>37.711807</td>\n",
       "      <td>-122.177658</td>\n",
       "      <td>21st Amendment Brewery</td>\n",
       "      <td>5105952111</td>\n",
       "      <td>94577</td>\n",
       "      <td>CA</td>\n",
       "      <td>http://21st-amendment.com</td>\n",
       "      <td>1501262</td>\n",
       "      <td>735</td>\n",
       "      <td>2010-03-14 16:30:10</td>\n",
       "      <td>4.0</td>\n",
       "      <td>3.5</td>\n",
       "      <td>4.0</td>\n",
       "      <td>metter98</td>\n",
       "      <td>Belgian Strong Dark Ale</td>\n",
       "      <td>4.0</td>\n",
       "      <td>4.5</td>\n",
       "      <td>Monk's Blood</td>\n",
       "      <td>8.3</td>\n",
       "      <td>52510</td>\n",
       "      <td>2010</td>\n",
       "      <td>3</td>\n",
       "    </tr>\n",
       "  </tbody>\n",
       "</table>\n",
       "</div>"
      ],
      "text/plain": [
       "            address categories         city country  \\\n",
       "0  2010 Williams St    Brewery  San Leandro      US   \n",
       "1  2010 Williams St    Brewery  San Leandro      US   \n",
       "2  2010 Williams St    Brewery  San Leandro      US   \n",
       "3  2010 Williams St    Brewery  San Leandro      US   \n",
       "4  2010 Williams St    Brewery  San Leandro      US   \n",
       "\n",
       "                               key        lat        long  \\\n",
       "0  us/ca/sanleandro/2010williamsst  37.711807 -122.177658   \n",
       "1  us/ca/sanleandro/2010williamsst  37.711807 -122.177658   \n",
       "2  us/ca/sanleandro/2010williamsst  37.711807 -122.177658   \n",
       "3  us/ca/sanleandro/2010williamsst  37.711807 -122.177658   \n",
       "4  us/ca/sanleandro/2010williamsst  37.711807 -122.177658   \n",
       "\n",
       "             brewery_name      phones  postalCode province  \\\n",
       "0  21st Amendment Brewery  5105952111       94577       CA   \n",
       "1  21st Amendment Brewery  5105952111       94577       CA   \n",
       "2  21st Amendment Brewery  5105952111       94577       CA   \n",
       "3  21st Amendment Brewery  5105952111       94577       CA   \n",
       "4  21st Amendment Brewery  5105952111       94577       CA   \n",
       "\n",
       "                    websites    index  brewery_id          review_time  \\\n",
       "0  http://21st-amendment.com  1495017         735  2011-03-01 00:49:43   \n",
       "1  http://21st-amendment.com  1495350         735  2008-12-04 19:03:15   \n",
       "2  http://21st-amendment.com  1495733         735  2010-01-23 20:55:46   \n",
       "3  http://21st-amendment.com  1501253         735  2010-04-08 18:58:54   \n",
       "4  http://21st-amendment.com  1501262         735  2010-03-14 16:30:10   \n",
       "\n",
       "   review_overall  review_aroma  review_appearance review_profilename  \\\n",
       "0             3.5           3.5                4.0          illidurit   \n",
       "1             4.0           4.0                4.0       magictrokini   \n",
       "2             4.0           4.0                3.5     HapWifeHapLife   \n",
       "3             4.0           3.5                4.5           pwoody11   \n",
       "4             4.0           3.5                4.0           metter98   \n",
       "\n",
       "                       beer_style  review_palate  review_taste  \\\n",
       "0  American Double / Imperial IPA            3.5           3.5   \n",
       "1                    American IPA            3.0           4.0   \n",
       "2                    American IPA            4.0           4.0   \n",
       "3         Belgian Strong Dark Ale            4.0           4.0   \n",
       "4         Belgian Strong Dark Ale            4.0           4.5   \n",
       "\n",
       "            beer_name  beer_abv  beer_beerid  review_year  review_month  \n",
       "0             21 Rock       9.7        66190         2011             3  \n",
       "1        Harvest Moon       6.4        45648         2008            12  \n",
       "2  21st Amendment IPA       7.0        20781         2010             1  \n",
       "3        Monk's Blood       8.3        52510         2010             4  \n",
       "4        Monk's Blood       8.3        52510         2010             3  "
      ]
     },
     "execution_count": 18,
     "metadata": {},
     "output_type": "execute_result"
    }
   ],
   "source": [
    "# open beer_df.csv\n",
    "beer_df = pd.read_csv('data/beer_df.csv', low_memory=False)\n",
    "beer_df.head()"
   ]
  },
  {
   "cell_type": "code",
   "execution_count": 19,
   "metadata": {},
   "outputs": [
    {
     "name": "stdout",
     "output_type": "stream",
     "text": [
      "Computing the cosine similarity matrix...\n",
      "Done computing similarity matrix.\n",
      "MSE: 0.3416\n",
      "MAE:  0.4388\n"
     ]
    },
    {
     "data": {
      "text/plain": [
       "0.4388271447863464"
      ]
     },
     "execution_count": 19,
     "metadata": {},
     "output_type": "execute_result"
    }
   ],
   "source": [
    "#Running a model with KNNBasic and review_aroma as the only feature\n",
    "from surprise import KNNBasic\n",
    "from surprise import Dataset\n",
    "from surprise import Reader\n",
    "from surprise import accuracy\n",
    "from surprise.model_selection import train_test_split\n",
    "\n",
    "reader = Reader(rating_scale=(1, 5))\n",
    "data = Dataset.load_from_df(beer_df[['review_profilename', 'beer_name', 'review_aroma']], reader)\n",
    "\n",
    "trainset, testset = train_test_split(data, test_size=.25)\n",
    "\n",
    "sim_options = {'name': 'cosine', 'user_based': False}\n",
    "aroma_model = KNNBasic(sim_options=sim_options)\n",
    "aroma_model.fit(trainset)\n",
    "predictions = aroma_model.test(testset)\n",
    "\n",
    "accuracy.mse(predictions)\n",
    "accuracy.mae(predictions)"
   ]
  },
  {
   "cell_type": "code",
   "execution_count": 20,
   "metadata": {},
   "outputs": [
    {
     "name": "stdout",
     "output_type": "stream",
     "text": [
      "Computing the cosine similarity matrix...\n",
      "Done computing similarity matrix.\n",
      "MSE: 0.2599\n",
      "MAE:  0.3755\n"
     ]
    },
    {
     "data": {
      "text/plain": [
       "0.3755354323247546"
      ]
     },
     "execution_count": 20,
     "metadata": {},
     "output_type": "execute_result"
    }
   ],
   "source": [
    "#Running a model with KNNBasic and review_appearance as the only feature\n",
    "from surprise import KNNBasic\n",
    "from surprise import Dataset\n",
    "from surprise import Reader\n",
    "from surprise import accuracy\n",
    "from surprise.model_selection import train_test_split\n",
    "\n",
    "reader = Reader(rating_scale=(1, 5))\n",
    "data = Dataset.load_from_df(beer_df[['review_profilename', 'beer_name', 'review_appearance']], reader)\n",
    "\n",
    "trainset, testset = train_test_split(data, test_size=.25)\n",
    "\n",
    "sim_options = {'name': 'cosine', 'user_based': False}\n",
    "appear_model = KNNBasic(sim_options=sim_options)\n",
    "appear_model.fit(trainset)\n",
    "predictions = appear_model.test(testset)\n",
    "\n",
    "accuracy.mse(predictions)\n",
    "accuracy.mae(predictions)"
   ]
  },
  {
   "cell_type": "code",
   "execution_count": 21,
   "metadata": {},
   "outputs": [
    {
     "name": "stdout",
     "output_type": "stream",
     "text": [
      "Computing the cosine similarity matrix...\n",
      "Done computing similarity matrix.\n",
      "MSE: 0.3345\n",
      "MAE:  0.4259\n"
     ]
    },
    {
     "data": {
      "text/plain": [
       "0.4258982035897061"
      ]
     },
     "execution_count": 21,
     "metadata": {},
     "output_type": "execute_result"
    }
   ],
   "source": [
    "#Running a model with KNNBasic and review_palate as the only feature\n",
    "from surprise import KNNBasic\n",
    "from surprise import Dataset\n",
    "from surprise import Reader\n",
    "from surprise import accuracy\n",
    "from surprise.model_selection import train_test_split\n",
    "\n",
    "reader = Reader(rating_scale=(1, 5))\n",
    "data = Dataset.load_from_df(beer_df[['review_profilename', 'beer_name', 'review_palate']], reader)\n",
    "\n",
    "trainset, testset = train_test_split(data, test_size=.25)\n",
    "\n",
    "sim_options = {'name': 'cosine', 'user_based': False}\n",
    "palate_model = KNNBasic(sim_options=sim_options)\n",
    "palate_model.fit(trainset)\n",
    "predictions = palate_model.test(testset)\n",
    "\n",
    "accuracy.mse(predictions)\n",
    "accuracy.mae(predictions)"
   ]
  },
  {
   "cell_type": "code",
   "execution_count": 22,
   "metadata": {},
   "outputs": [
    {
     "name": "stdout",
     "output_type": "stream",
     "text": [
      "Computing the cosine similarity matrix...\n",
      "Done computing similarity matrix.\n",
      "MSE: 0.3975\n",
      "MAE:  0.4656\n"
     ]
    },
    {
     "data": {
      "text/plain": [
       "0.4656236010235027"
      ]
     },
     "execution_count": 22,
     "metadata": {},
     "output_type": "execute_result"
    }
   ],
   "source": [
    "#Running a model with KNNBasic and review_taste as the only feature\n",
    "from surprise import KNNBasic\n",
    "from surprise import Dataset\n",
    "from surprise import Reader\n",
    "from surprise import accuracy\n",
    "from surprise.model_selection import train_test_split\n",
    "\n",
    "reader = Reader(rating_scale=(1, 5))\n",
    "data = Dataset.load_from_df(beer_df[['review_profilename', 'beer_name', 'review_taste']], reader)\n",
    "\n",
    "trainset, testset = train_test_split(data, test_size=.25)\n",
    "\n",
    "sim_options = {'name': 'cosine', 'user_based': False}\n",
    "taste_model = KNNBasic(sim_options=sim_options)\n",
    "taste_model.fit(trainset)\n",
    "predictions = taste_model.test(testset)\n",
    "\n",
    "accuracy.mse(predictions)\n",
    "accuracy.mae(predictions)"
   ]
  },
  {
   "cell_type": "code",
   "execution_count": 23,
   "metadata": {},
   "outputs": [],
   "source": [
    "# combine all models with features into one as a hybrid model\n",
    "def hybrid_model(username, beer):\n",
    "    # Get predictions from all four models\n",
    "    aroma_prediction = aroma_model.predict(username, beer).est\n",
    "    appear_prediction = appear_model.predict(username, beer).est\n",
    "    palate_prediction = palate_model.predict(username, beer).est\n",
    "    taste_prediction = taste_model.predict(username, beer).est\n",
    "\n",
    "    # Calculate weighted average of predictions\n",
    "    prediction = (aroma_prediction * 0.25) + (appear_prediction * 0.25) + (palate_prediction * 0.25) + (taste_prediction * 0.25)\n",
    "\n",
    "    return prediction"
   ]
  },
  {
   "cell_type": "code",
   "execution_count": 24,
   "metadata": {},
   "outputs": [
    {
     "name": "stdout",
     "output_type": "stream",
     "text": [
      "Predicted rating: 3.703125\n",
      "Actual rating: 3.75\n"
     ]
    }
   ],
   "source": [
    "# Get a prediction using the hybrid model\n",
    "username = \"magictrokini\"\n",
    "beer = \"Harvest Moon\"\n",
    "prediction = hybrid_model(username, beer)\n",
    "\n",
    "# Locate the row in beer_df corresponding to the user and beer\n",
    "mask = (beer_df['review_profilename'] == username) & (beer_df['beer_name'] == beer)\n",
    "row = beer_df.loc[mask]\n",
    "\n",
    "# Get the actual rating from the row\n",
    "actual_rating = row[['review_aroma', 'review_appearance', 'review_palate', 'review_taste']].mean(axis=1).values[0]\n",
    "\n",
    "\n",
    "# Compare the predicted and actual ratings\n",
    "print(\"Predicted rating:\", prediction)\n",
    "print(\"Actual rating:\", actual_rating)"
   ]
  }
 ],
 "metadata": {
  "kernelspec": {
   "display_name": "learn-env",
   "language": "python",
   "name": "python3"
  },
  "language_info": {
   "codemirror_mode": {
    "name": "ipython",
    "version": 3
   },
   "file_extension": ".py",
   "mimetype": "text/x-python",
   "name": "python",
   "nbconvert_exporter": "python",
   "pygments_lexer": "ipython3",
   "version": "3.8.5"
  }
 },
 "nbformat": 4,
 "nbformat_minor": 4
}
